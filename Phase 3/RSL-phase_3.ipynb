{
 "cells": [
  {
   "cell_type": "code",
   "execution_count": 1,
   "metadata": {},
   "outputs": [
    {
     "ename": "LoadError",
     "evalue": "LoadError: SystemError: opening file \"Phase 1/instances/stsp/bays29.tsp\": No such file or directory\nin expression starting at c:\\Users\\victo\\OneDrive\\Documents\\Cours\\MTH6412B\\Projet\\Phase 1\\main.jl:48",
     "output_type": "error",
     "traceback": [
      "LoadError: SystemError: opening file \"Phase 1/instances/stsp/bays29.tsp\": No such file or directory\n",
      "in expression starting at c:\\Users\\victo\\OneDrive\\Documents\\Cours\\MTH6412B\\Projet\\Phase 1\\main.jl:48\n",
      "\n",
      "Stacktrace:\n",
      "  [1] systemerror(p::String, errno::Int32; extrainfo::Nothing)\n",
      "    @ Base .\\error.jl:176\n",
      "  [2] #systemerror#82\n",
      "    @ .\\error.jl:175 [inlined]\n",
      "  [3] systemerror\n",
      "    @ .\\error.jl:175 [inlined]\n",
      "  [4] open(fname::String; lock::Bool, read::Bool, write::Nothing, create::Nothing, truncate::Nothing, append::Nothing)\n",
      "    @ Base .\\iostream.jl:293\n",
      "  [5] open\n",
      "    @ .\\iostream.jl:275 [inlined]\n",
      "  [6] open(fname::String, mode::String; lock::Bool)\n",
      "    @ Base .\\iostream.jl:356\n",
      "  [7] open\n",
      "    @ .\\iostream.jl:355 [inlined]\n",
      "  [8] read_header(filename::String)\n",
      "    @ Main c:\\Users\\victo\\OneDrive\\Documents\\Cours\\MTH6412B\\Projet\\Phase 1\\read_stsp.jl:6\n",
      "  [9] build_graph(instance::String, title::String)\n",
      "    @ Main c:\\Users\\victo\\OneDrive\\Documents\\Cours\\MTH6412B\\Projet\\Phase 1\\main.jl:10\n",
      " [10] top-level scope\n",
      "    @ c:\\Users\\victo\\OneDrive\\Documents\\Cours\\MTH6412B\\Projet\\Phase 1\\main.jl:48"
     ]
    }
   ],
   "source": [
    "include(\"../Phase 1/node.jl\")\n",
    "include(\"../Phase 1/edge.jl\")\n",
    "include(\"../Phase 1/graph.jl\")\n",
    "include(\"../Phase 1/read_stsp.jl\")\n",
    "include(\"../Phase 1/main.jl\")"
   ]
  },
  {
   "cell_type": "code",
   "execution_count": 2,
   "metadata": {},
   "outputs": [
    {
     "data": {
      "text/plain": [
       "get_priority"
      ]
     },
     "metadata": {},
     "output_type": "display_data"
    }
   ],
   "source": [
    "include(\"../Phase 2/utils.jl\")\n",
    "include(\"../Phase 2/PriorityQueue.jl\")"
   ]
  },
  {
   "cell_type": "code",
   "execution_count": 3,
   "metadata": {},
   "outputs": [
    {
     "data": {
      "text/plain": [
       "Edge{Float64, Float64}(Node{Float64}(\"b\", 1.0, nothing, 0), Node{Float64}(\"h\", 1.0, nothing, 0), 11.0)"
      ]
     },
     "metadata": {},
     "output_type": "display_data"
    }
   ],
   "source": [
    "a, b, c, d, e, f, g, h, i = Node(\"a\", 1.0), Node(\"b\", 1.0), Node(\"c\", 1.0), Node(\"d\", 1.0), Node(\"e\", 1.0), Node(\"f\", 1.0), Node(\"g\", 1.0), Node(\"h\", 1.0), Node(\"i\", 1.0)\n",
    "e1 = Edge(a, b, 4.)\n",
    "e2 = Edge(b, c, 8.)\n",
    "e3 = Edge(c, d, 7.)\n",
    "e4 = Edge(d, e, 9.)\n",
    "e5 = Edge(e, f, 10.)\n",
    "e6 = Edge(d, f, 14.)\n",
    "e7 = Edge(f, c, 4.)\n",
    "e8 = Edge(f, g, 2.)\n",
    "e9 = Edge(g, i, 6.)\n",
    "e10 = Edge(g, h, 1.)\n",
    "e11 = Edge(a, h, 8.)\n",
    "e12 = Edge(h, i, 7.)\n",
    "e13 = Edge(i, c, 2.)\n",
    "e14 = Edge(b, h, 11.)"
   ]
  },
  {
   "cell_type": "code",
   "execution_count": 4,
   "metadata": {},
   "outputs": [
    {
     "data": {
      "text/plain": [
       "ExtendedGraph{Float64, Float64}(\"res Prim\", Node{Float64}[Node{Float64}(\"a\", 1.0, nothing, 0), Node{Float64}(\"b\", 1.0, nothing, 0), Node{Float64}(\"c\", 1.0, nothing, 0), Node{Float64}(\"d\", 1.0, nothing, 0), Node{Float64}(\"e\", 1.0, nothing, 0), Node{Float64}(\"f\", 1.0, nothing, 0), Node{Float64}(\"g\", 1.0, nothing, 0), Node{Float64}(\"h\", 1.0, nothing, 0), Node{Float64}(\"i\", 1.0, nothing, 0)], Edge{Float64, Float64}[Edge{Float64, Float64}(Node{Float64}(\"a\", 1.0, nothing, 0), Node{Float64}(\"b\", 1.0, nothing, 0), 4.0), Edge{Float64, Float64}(Node{Float64}(\"b\", 1.0, nothing, 0), Node{Float64}(\"c\", 1.0, nothing, 0), 8.0), Edge{Float64, Float64}(Node{Float64}(\"i\", 1.0, nothing, 0), Node{Float64}(\"c\", 1.0, nothing, 0), 2.0), Edge{Float64, Float64}(Node{Float64}(\"f\", 1.0, nothing, 0), Node{Float64}(\"c\", 1.0, nothing, 0), 4.0), Edge{Float64, Float64}(Node{Float64}(\"f\", 1.0, nothing, 0), Node{Float64}(\"g\", 1.0, nothing, 0), 2.0), Edge{Float64, Float64}(Node{Float64}(\"g\", 1.0, nothing, 0), Node{Float64}(\"h\", 1.0, nothing, 0), 1.0), Edge{Float64, Float64}(Node{Float64}(\"c\", 1.0, nothing, 0), Node{Float64}(\"d\", 1.0, nothing, 0), 7.0), Edge{Float64, Float64}(Node{Float64}(\"d\", 1.0, nothing, 0), Node{Float64}(\"e\", 1.0, nothing, 0), 9.0)])"
      ]
     },
     "metadata": {},
     "output_type": "display_data"
    }
   ],
   "source": [
    "G_cours = ExtendedGraph(\"graphe du cours\", [a, b, c, d, e, f, g, h, i], [e1, e2, e3, e4, e5, e6, e7, e8, e9, e10, e11, e12, e13, e14])\n",
    "graph_cours_prim = Prim(G_cours)"
   ]
  },
  {
   "cell_type": "code",
   "execution_count": 5,
   "metadata": {},
   "outputs": [
    {
     "data": {
      "text/plain": [
       "neighbours (generic function with 1 method)"
      ]
     },
     "metadata": {},
     "output_type": "display_data"
    }
   ],
   "source": [
    "function neighbours(graph::ExtendedGraph, node::Node)\n",
    "    edges_voisins = []\n",
    "    for e in graph.edges\n",
    "      if node == e.start_node || node == e.end_node\n",
    "        push!(edges_voisins, e)\n",
    "      end\n",
    "    end\n",
    "    return edges_voisins\n",
    "  end"
   ]
  },
  {
   "cell_type": "code",
   "execution_count": 6,
   "metadata": {},
   "outputs": [
    {
     "data": {
      "text/plain": [
       "RSL! (generic function with 3 methods)"
      ]
     },
     "metadata": {},
     "output_type": "display_data"
    }
   ],
   "source": [
    "function RSL!(graph::ExtendedGraph, racine::Node, root_node::Node, visited::Set{Node{T}}=Set{Node{T}}(), path::Vector{Node{T}}=Vector{Node{T}}()) where T\n",
    "    push!(visited, racine)\n",
    "    push!(path, racine)  \n",
    "    edges = neighbours(graph, racine)\n",
    "    for e in edges\n",
    "        next_node = e.start_node == racine ? e.end_node : e.start_node\n",
    "        if !(next_node in visited)\n",
    "            next_node.parent = racine\n",
    "            RSL!(graph, next_node, root_node, visited, path) \n",
    "        end\n",
    "    end\n",
    "    all_visited = all(node -> node in visited, nodes(graph))\n",
    "    if all_visited && path[end] != root_node\n",
    "        push!(path, root_node)\n",
    "    end\n",
    "    return path\n",
    "  end"
   ]
  },
  {
   "cell_type": "code",
   "execution_count": 7,
   "metadata": {},
   "outputs": [
    {
     "data": {
      "text/plain": [
       "10-element Vector{Node{Float64}}:\n",
       " Node{Float64}(\"a\", 1.0, nothing, 0)\n",
       " Node{Float64}(\"b\", 1.0, Node{Float64}(\"a\", 1.0, nothing, 0), 0)\n",
       " Node{Float64}(\"c\", 1.0, Node{Float64}(\"b\", 1.0, Node{Float64}(\"a\", 1.0, nothing, 0), 0), 0)\n",
       " Node{Float64}(\"i\", 1.0, Node{Float64}(\"c\", 1.0, Node{Float64}(\"b\", 1.0, Node{Float64}(\"a\", 1.0, nothing, 0), 0), 0), 0)\n",
       " Node{Float64}(\"f\", 1.0, Node{Float64}(\"c\", 1.0, Node{Float64}(\"b\", 1.0, Node{Float64}(\"a\", 1.0, nothing, 0), 0), 0), 0)\n",
       " Node{Float64}(\"g\", 1.0, Node{Float64}(\"f\", 1.0, Node{Float64}(\"c\", 1.0, Node{Float64}(\"b\", 1.0, Node{Float64}(\"a\", 1.0, nothing, 0), 0), 0), 0), 0)\n",
       " Node{Float64}(\"h\", 1.0, Node{Float64}(\"g\", 1.0, Node{Float64}(\"f\", 1.0, Node{Float64}(\"c\", 1.0, Node{Float64}(\"b\", 1.0, Node{Float64}(\"a\", 1.0, nothing, 0), 0), 0), 0), 0), 0)\n",
       " Node{Float64}(\"d\", 1.0, Node{Float64}(\"c\", 1.0, Node{Float64}(\"b\", 1.0, Node{Float64}(\"a\", 1.0, nothing, 0), 0), 0), 0)\n",
       " Node{Float64}(\"e\", 1.0, Node{Float64}(\"d\", 1.0, Node{Float64}(\"c\", 1.0, Node{Float64}(\"b\", 1.0, Node{Float64}(\"a\", 1.0, nothing, 0), 0), 0), 0), 0)\n",
       " Node{Float64}(\"a\", 1.0, nothing, 0)"
      ]
     },
     "metadata": {},
     "output_type": "display_data"
    }
   ],
   "source": [
    "graph_cours_prim_v1 = graph_cours_prim\n",
    "visited_nodes = Set{Node{Float64}}()\n",
    "root_node = a  \n",
    "path = RSL!(graph_cours_prim_v1, root_node, root_node, visited_nodes) "
   ]
  },
  {
   "cell_type": "code",
   "execution_count": 8,
   "metadata": {},
   "outputs": [
    {
     "name": "stdout",
     "output_type": "stream",
     "text": [
      "Tour path:\n",
      "Step 1: Node{Float64}(\"a\", 1.0, nothing, 0)\n",
      "Step 2: Node{Float64}(\"b\", 1.0, "
     ]
    },
    {
     "name": "stdout",
     "output_type": "stream",
     "text": [
      "Node{Float64}(\"a\", 1.0, nothing, 0), 0)\n",
      "Step 3: Node{Float64}(\"c\", 1.0, Node{Float64}(\"b\", 1.0, Node{Float64}(\"a\", 1.0, nothing, 0), 0), 0)\n",
      "Step 4: Node{Float64}(\"i\", 1.0, Node{Float64}(\"c\", 1.0, Node{Float64}(\"b\", 1.0, Node{Float64}(\"a\", 1.0, nothing, 0), 0), 0), 0)\n",
      "Step 5: Node{Float64}(\"f\", 1.0, Node{Float64}(\"c\", 1.0, Node{Float64}(\"b\", 1.0, Node{Float64}(\"a\", 1.0, nothing, 0), 0), 0), 0)\n",
      "Step 6: Node{Float64}(\"g\", 1.0, Node{Float64}(\"f\", 1.0, Node{Float64}(\"c\", 1.0, Node{Float64}(\"b\", 1.0, Node{Float64}(\"a\", 1.0, nothing, 0), 0), 0), 0), 0)\n",
      "Step 7: Node{Float64}(\"h\", 1.0, Node{Float64}(\"g\", 1.0, Node{Float64}(\"f\", 1.0, Node{Float64}(\"c\", 1.0, Node{Float64}(\"b\", 1.0, Node{Float64}(\"a\", 1.0, nothing, 0), 0), 0), 0), 0), 0)\n",
      "Step 8: Node{Float64}(\"d\", 1.0, Node{Float64}(\"c\", 1.0, Node{Float64}(\"b\", 1.0, Node{Float64}(\"a\", 1.0, nothing, 0), 0), 0), 0)\n",
      "Step 9: Node{Float64}(\"e\", 1.0, Node{Float64}(\"d\", 1.0, Node{Float64}(\"c\", 1.0, Node{Float64}(\"b\", 1.0, Node{Float64}(\"a\", 1.0, nothing, 0), 0), 0), 0), 0)\n",
      "Step 10: Node{Float64}(\"a\", 1.0, nothing, 0)\n",
      "The tour ends at the starting node.\n"
     ]
    }
   ],
   "source": [
    "function Base.show(io::IO, path::Vector{Node{Float64}})\n",
    "    println(io, \"Tour path:\")\n",
    "    for (index, node) in enumerate(path)\n",
    "      print(io, \"Step $index: \")\n",
    "      show(io, node)  \n",
    "      println(io)  \n",
    "    end\n",
    "    if path[1] !== path[end]\n",
    "      println(io, \"The tour returns to the starting node: \", name(path[1]))\n",
    "    else\n",
    "      println(io, \"The tour ends at the starting node.\")\n",
    "    end\n",
    "  end\n",
    "  \n",
    "  show(stdout, path)"
   ]
  },
  {
   "cell_type": "code",
   "execution_count": 11,
   "metadata": {},
   "outputs": [
    {
     "data": {
      "text/plain": [
       "RSLv2! (generic function with 3 methods)"
      ]
     },
     "metadata": {},
     "output_type": "display_data"
    }
   ],
   "source": [
    "function RSLv2!(graph::ExtendedGraph, racine::Node, root_node::Node, visited::Set{Node{T}}=Set{Node{T}}(), path::Vector{String}=Vector{String}()) where T\n",
    "    push!(visited, racine)\n",
    "    push!(path, racine.name)  \n",
    "    edges = neighbours(graph, racine)\n",
    "    for e in edges\n",
    "        next_node = e.start_node == racine ? e.end_node : e.start_node\n",
    "        if !(next_node in visited)\n",
    "            next_node.parent = racine\n",
    "            RSLv2!(graph, next_node, root_node, visited, path)  \n",
    "        end\n",
    "    end\n",
    "\n",
    "    all_visited = all(node -> node in visited, nodes(graph))\n",
    "    if all_visited && path[end] != root_node.name\n",
    "        push!(path, root_node.name)\n",
    "    end\n",
    "    return path\n",
    "end"
   ]
  },
  {
   "cell_type": "code",
   "execution_count": 12,
   "metadata": {},
   "outputs": [
    {
     "data": {
      "text/plain": [
       "10-element Vector{String}:\n",
       " \"a\"\n",
       " \"b\"\n",
       " \"c\"\n",
       " \"i\"\n",
       " \"f\"\n",
       " \"g\"\n",
       " \"h\"\n",
       " \"d\"\n",
       " \"e\"\n",
       " \"a\""
      ]
     },
     "metadata": {},
     "output_type": "display_data"
    }
   ],
   "source": [
    "graph_cours_prim_v2 = graph_cours_prim\n",
    "visited_nodes = Set{Node{Float64}}()\n",
    "root_node = a  \n",
    "path = RSLv2!(graph_cours_prim_v2, root_node, root_node, visited_nodes) "
   ]
  },
  {
   "cell_type": "code",
   "execution_count": 13,
   "metadata": {},
   "outputs": [],
   "source": [
    "function Base.show(io::IO, path::Vector{Node{Float64}})\n",
    "    println(io, \"Tour path:\")\n",
    "    for (index, node) in enumerate(path)\n",
    "      print(io, \"Step $index: \")\n",
    "      show(io, node)  \n",
    "      println(io)  \n",
    "    end\n",
    "    if path[1] !== path[end]\n",
    "      println(io, \"The tour returns to the starting node: \", name(path[1]))\n",
    "    else\n",
    "      println(io, \"The tour ends at the starting node.\")\n",
    "    end\n",
    "  end"
   ]
  },
  {
   "cell_type": "code",
   "execution_count": 14,
   "metadata": {},
   "outputs": [
    {
     "name": "stdout",
     "output_type": "stream",
     "text": [
      "[\"a\", \"b\", \"c\", \"i\", \"f\", \"g\", \"h\", \"d\", \"e\", \"a\"]"
     ]
    }
   ],
   "source": [
    "show(stdout, path)"
   ]
  },
  {
   "cell_type": "code",
   "execution_count": 15,
   "metadata": {},
   "outputs": [
    {
     "data": {
      "text/plain": [
       "ExtendedGraph{Vector{Float64}, Float64}(\"Graph_Test\", Node{Vector{Float64}}[Node{Vector{Float64}}(\"1\", [1150.0, 1760.0], nothing, 0), Node{Vector{Float64}}(\"2\", [630.0, 1660.0], nothing, 0), Node{Vector{Float64}}(\"3\", [40.0, 2090.0], nothing, 0), Node{Vector{Float64}}(\"4\", [750.0, 1100.0], nothing, 0), Node{Vector{Float64}}(\"5\", [750.0, 2030.0], nothing, 0), Node{Vector{Float64}}(\"6\", [1030.0, 2070.0], nothing, 0), Node{Vector{Float64}}(\"7\", [1650.0, 650.0], nothing, 0), Node{Vector{Float64}}(\"8\", [1490.0, 1630.0], nothing, 0), Node{Vector{Float64}}(\"9\", [790.0, 2260.0], nothing, 0), Node{Vector{Float64}}(\"10\", [710.0, 1310.0], nothing, 0)  …  Node{Vector{Float64}}(\"20\", [590.0, 1390.0], nothing, 0), Node{Vector{Float64}}(\"21\", [830.0, 1770.0], nothing, 0), Node{Vector{Float64}}(\"22\", [490.0, 500.0], nothing, 0), Node{Vector{Float64}}(\"23\", [1840.0, 1240.0], nothing, 0), Node{Vector{Float64}}(\"24\", [1260.0, 1500.0], nothing, 0), Node{Vector{Float64}}(\"25\", [1280.0, 790.0], nothing, 0), Node{Vector{Float64}}(\"26\", [490.0, 2130.0], nothing, 0), Node{Vector{Float64}}(\"27\", [1460.0, 1420.0], nothing, 0), Node{Vector{Float64}}(\"28\", [1260.0, 1910.0], nothing, 0), Node{Vector{Float64}}(\"29\", [360.0, 1980.0], nothing, 0)], Edge{Vector{Float64}, Float64}[Edge{Vector{Float64}, Float64}(Node{Vector{Float64}}(\"1\", [1150.0, 1760.0], nothing, 0), Node{Vector{Float64}}(\"1\", [1150.0, 1760.0], nothing, 0), 0.0), Edge{Vector{Float64}, Float64}(Node{Vector{Float64}}(\"1\", [1150.0, 1760.0], nothing, 0), Node{Vector{Float64}}(\"2\", [630.0, 1660.0], nothing, 0), 107.0), Edge{Vector{Float64}, Float64}(Node{Vector{Float64}}(\"1\", [1150.0, 1760.0], nothing, 0), Node{Vector{Float64}}(\"3\", [40.0, 2090.0], nothing, 0), 241.0), Edge{Vector{Float64}, Float64}(Node{Vector{Float64}}(\"1\", [1150.0, 1760.0], nothing, 0), Node{Vector{Float64}}(\"4\", [750.0, 1100.0], nothing, 0), 190.0), Edge{Vector{Float64}, Float64}(Node{Vector{Float64}}(\"1\", [1150.0, 1760.0], nothing, 0), Node{Vector{Float64}}(\"5\", [750.0, 2030.0], nothing, 0), 124.0), Edge{Vector{Float64}, Float64}(Node{Vector{Float64}}(\"1\", [1150.0, 1760.0], nothing, 0), Node{Vector{Float64}}(\"6\", [1030.0, 2070.0], nothing, 0), 80.0), Edge{Vector{Float64}, Float64}(Node{Vector{Float64}}(\"1\", [1150.0, 1760.0], nothing, 0), Node{Vector{Float64}}(\"7\", [1650.0, 650.0], nothing, 0), 316.0), Edge{Vector{Float64}, Float64}(Node{Vector{Float64}}(\"1\", [1150.0, 1760.0], nothing, 0), Node{Vector{Float64}}(\"8\", [1490.0, 1630.0], nothing, 0), 76.0), Edge{Vector{Float64}, Float64}(Node{Vector{Float64}}(\"1\", [1150.0, 1760.0], nothing, 0), Node{Vector{Float64}}(\"9\", [790.0, 2260.0], nothing, 0), 152.0), Edge{Vector{Float64}, Float64}(Node{Vector{Float64}}(\"1\", [1150.0, 1760.0], nothing, 0), Node{Vector{Float64}}(\"10\", [710.0, 1310.0], nothing, 0), 157.0)  …  Edge{Vector{Float64}, Float64}(Node{Vector{Float64}}(\"26\", [490.0, 2130.0], nothing, 0), Node{Vector{Float64}}(\"26\", [490.0, 2130.0], nothing, 0), 0.0), Edge{Vector{Float64}, Float64}(Node{Vector{Float64}}(\"26\", [490.0, 2130.0], nothing, 0), Node{Vector{Float64}}(\"27\", [1460.0, 1420.0], nothing, 0), 265.0), Edge{Vector{Float64}, Float64}(Node{Vector{Float64}}(\"26\", [490.0, 2130.0], nothing, 0), Node{Vector{Float64}}(\"28\", [1260.0, 1910.0], nothing, 0), 178.0), Edge{Vector{Float64}, Float64}(Node{Vector{Float64}}(\"26\", [490.0, 2130.0], nothing, 0), Node{Vector{Float64}}(\"29\", [360.0, 1980.0], nothing, 0), 39.0), Edge{Vector{Float64}, Float64}(Node{Vector{Float64}}(\"27\", [1460.0, 1420.0], nothing, 0), Node{Vector{Float64}}(\"27\", [1460.0, 1420.0], nothing, 0), 0.0), Edge{Vector{Float64}, Float64}(Node{Vector{Float64}}(\"27\", [1460.0, 1420.0], nothing, 0), Node{Vector{Float64}}(\"28\", [1260.0, 1910.0], nothing, 0), 124.0), Edge{Vector{Float64}, Float64}(Node{Vector{Float64}}(\"27\", [1460.0, 1420.0], nothing, 0), Node{Vector{Float64}}(\"29\", [360.0, 1980.0], nothing, 0), 263.0), Edge{Vector{Float64}, Float64}(Node{Vector{Float64}}(\"28\", [1260.0, 1910.0], nothing, 0), Node{Vector{Float64}}(\"28\", [1260.0, 1910.0], nothing, 0), 0.0), Edge{Vector{Float64}, Float64}(Node{Vector{Float64}}(\"28\", [1260.0, 1910.0], nothing, 0), Node{Vector{Float64}}(\"29\", [360.0, 1980.0], nothing, 0), 199.0), Edge{Vector{Float64}, Float64}(Node{Vector{Float64}}(\"29\", [360.0, 1980.0], nothing, 0), Node{Vector{Float64}}(\"29\", [360.0, 1980.0], nothing, 0), 0.0)])"
      ]
     },
     "metadata": {},
     "output_type": "display_data"
    }
   ],
   "source": [
    "graph_tsp = build_graph(\"../Phase 1/instances/stsp/bays29.tsp\", \"Graph_Test\")"
   ]
  },
  {
   "cell_type": "code",
   "execution_count": 17,
   "metadata": {},
   "outputs": [
    {
     "name": "stdout",
     "output_type": "stream",
     "text": [
      "Graph res Kruskal has 29 nodes and 28 edges.\n",
      "Nodes:\n",
      "Node 1"
     ]
    },
    {
     "name": "stdout",
     "output_type": "stream",
     "text": [
      ", data: [1150.0, 1760.0], parent: No parent for node\n",
      "Node 2, data: [630.0, 1660.0], parent: No parent for node\n",
      "Node 3, data: [40.0, 2090.0], parent: No parent for node\n",
      "Node 4, data: [750.0, 1100.0], parent: No parent for node\n",
      "Node 5, data: [750.0, 2030.0], parent: No parent for node\n",
      "Node 6, data: [1030.0, 2070.0], parent: No parent for node\n",
      "Node 7, data: [1650.0, 650.0], parent: No parent for node\n",
      "Node 8, data: [1490.0, 1630.0], parent: No parent for node\n",
      "Node 9, data: [790.0, 2260.0], parent: No parent for node\n",
      "Node 10, data: [710.0, 1310.0], parent: No parent for node\n",
      "Node 11, data: [840.0, 550.0], parent: No parent for node\n",
      "Node 12, data: [1170.0, 2300.0], parent: No parent for node\n",
      "Node 13, data: [970.0, 1340.0], parent: No parent for node\n",
      "Node 14, data: [510.0, 700.0], parent: No parent for node\n",
      "Node 15, data: [750.0, 900.0], parent: No parent for node\n",
      "Node 16, data: [1280.0, 1200.0], parent: No parent for node\n",
      "Node 17, data: [230.0, 590.0], parent: No parent for node\n",
      "Node 18, data: [460.0, 860.0], parent: No parent for node\n",
      "Node 19, data: [1040.0, 950.0], parent: No parent for node\n",
      "Node 20, data: [590.0, 1390.0], parent: No parent for node\n",
      "Node 21, data: [830.0, 1770.0], parent: No parent for node\n",
      "Node 22, data: [490.0, 500.0], parent: No parent for node\n",
      "Node 23, data: [1840.0, 1240.0], parent: No parent for node\n",
      "Node 24, data: [1260.0, 1500.0], parent: No parent for node\n",
      "Node 25, data: [1280.0, 790.0], parent: No parent for node\n",
      "Node 26, data: [490.0, 2130.0], parent: No parent for node\n",
      "Node 27, data: [1460.0, 1420.0], parent: No parent for node\n",
      "Node 28, data: [1260.0, 1910.0], parent: No parent for node\n",
      "Node 29, data: [360.0, 1980.0], parent: No parent for node\n",
      "Edges:\n",
      "Edge from 10 to 20, weight: 28.0\n",
      "Edge from 14 to 18, weight: 35.0\n",
      "Edge from 4 to 15, weight: 38.0\n",
      "Edge from 26 to 29, weight: 39.0\n",
      "Edge from 24 to 27, weight: 41.0\n",
      "Edge from 2 to 21, weight: 42.0\n",
      "Edge from 4 to 10, weight: 42.0\n",
      "Edge from 8 to 27, weight: 43.0\n",
      "Edge from 14 to 22, weight: 44.0\n",
      "Edge from 1 to 28, weight: 45.0\n",
      "Edge from 5 to 9, weight: 46.0\n",
      "Edge from 6 to 12, weight: 55.0\n",
      "Edge from 16 to 27, weight: 55.0\n",
      "Edge from 15 to 18, weight: 56.0\n",
      "Edge from 15 to 19, weight: 56.0\n",
      "Edge from 5 to 26, weight: 57.0\n",
      "Edge from 10 to 13, weight: 57.0\n",
      "Edge from 14 to 17, weight: 59.0\n",
      "Edge from 6 to 28, weight: 60.0\n",
      "Edge from 5 to 6, weight: 61.0\n",
      "Edge from 1 to 21, weight: 65.0\n",
      "Edge from 16 to 19, weight: 66.0\n",
      "Edge from 1 to 24, weight: 67.0\n",
      "Edge from 19 to 25, weight: 69.0\n",
      "Edge from 3 to 29, weight: 77.0\n",
      "Edge from 11 to 15, weight: 79.0\n",
      "Edge from 23 to 27, weight: 80.0\n",
      "Edge from 7 to 25, weight: 95.0\n"
     ]
    }
   ],
   "source": [
    "graph_kruskal = Kruskal(graph_tsp)\n",
    "show(graph_kruskal)"
   ]
  },
  {
   "cell_type": "code",
   "execution_count": 22,
   "metadata": {},
   "outputs": [
    {
     "data": {
      "text/plain": [
       "\"1\""
      ]
     },
     "metadata": {},
     "output_type": "display_data"
    }
   ],
   "source": [
    "graph_kruskal.nodes[1].name"
   ]
  },
  {
   "cell_type": "code",
   "execution_count": 26,
   "metadata": {},
   "outputs": [
    {
     "ename": "MethodError",
     "evalue": "MethodError: no method matching RSL!(::ExtendedGraph{Vector{Float64}, Float64}, ::String, ::Node{Float64}, ::Set{Node{Float64}})\n\nClosest candidates are:\n  RSL!(::ExtendedGraph, !Matched::Node, ::Node, ::Set{Node{T}}) where T\n   @ Main c:\\Users\\victo\\OneDrive\\Documents\\Cours\\MTH6412B\\Projet\\Phase 3\\RSL-phase_3.ipynb:1\n  RSL!(::ExtendedGraph, !Matched::Node, ::Node, ::Set{Node{T}}, !Matched::Array{Node{T}, 1}) where T\n   @ Main c:\\Users\\victo\\OneDrive\\Documents\\Cours\\MTH6412B\\Projet\\Phase 3\\RSL-phase_3.ipynb:1\n  RSL!(::ExtendedGraph, !Matched::Node, ::Node)\n   @ Main c:\\Users\\victo\\OneDrive\\Documents\\Cours\\MTH6412B\\Projet\\Phase 3\\RSL-phase_3.ipynb:1\n",
     "output_type": "error",
     "traceback": [
      "MethodError: no method matching RSL!(::ExtendedGraph{Vector{Float64}, Float64}, ::String, ::Node{Float64}, ::Set{Node{Float64}})\n",
      "\n",
      "Closest candidates are:\n",
      "  RSL!(::ExtendedGraph, !Matched::Node, ::Node, ::Set{Node{T}}) where T\n",
      "   @ Main c:\\Users\\victo\\OneDrive\\Documents\\Cours\\MTH6412B\\Projet\\Phase 3\\RSL-phase_3.ipynb:1\n",
      "  RSL!(::ExtendedGraph, !Matched::Node, ::Node, ::Set{Node{T}}, !Matched::Array{Node{T}, 1}) where T\n",
      "   @ Main c:\\Users\\victo\\OneDrive\\Documents\\Cours\\MTH6412B\\Projet\\Phase 3\\RSL-phase_3.ipynb:1\n",
      "  RSL!(::ExtendedGraph, !Matched::Node, ::Node)\n",
      "   @ Main c:\\Users\\victo\\OneDrive\\Documents\\Cours\\MTH6412B\\Projet\\Phase 3\\RSL-phase_3.ipynb:1\n",
      "\n",
      "\n",
      "Stacktrace:\n",
      " [1] top-level scope\n",
      "   @ c:\\Users\\victo\\OneDrive\\Documents\\Cours\\MTH6412B\\Projet\\Phase 3\\RSL-phase_3.ipynb:4"
     ]
    }
   ],
   "source": [
    "graph_kruskal_v1 = graph_kruskal\n",
    "visited_nodes = Set{Node{Float64}}()\n",
    "root_node_TSP = graph_kruskal.nodes[1].name\n",
    "path = RSL!(graph_kruskal_v1, root_node_TSP, root_node, visited_nodes) "
   ]
  },
  {
   "cell_type": "code",
   "execution_count": null,
   "metadata": {},
   "outputs": [],
   "source": []
  }
 ],
 "metadata": {
  "kernelspec": {
   "display_name": "Julia 1.9.3",
   "language": "julia",
   "name": "julia-1.9"
  },
  "language_info": {
   "file_extension": ".jl",
   "mimetype": "application/julia",
   "name": "julia",
   "version": "1.9.3"
  }
 },
 "nbformat": 4,
 "nbformat_minor": 2
}
